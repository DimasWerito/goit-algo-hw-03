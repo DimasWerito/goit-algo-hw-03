{
  "nbformat": 4,
  "nbformat_minor": 0,
  "metadata": {
    "colab": {
      "provenance": [],
      "authorship_tag": "ABX9TyNj8a2ohuqM6mMwAmtBhOWk",
      "include_colab_link": true
    },
    "kernelspec": {
      "name": "python3",
      "display_name": "Python 3"
    },
    "language_info": {
      "name": "python"
    }
  },
  "cells": [
    {
      "cell_type": "markdown",
      "metadata": {
        "id": "view-in-github",
        "colab_type": "text"
      },
      "source": [
        "<a href=\"https://colab.research.google.com/github/DimasWerito/goit-algo-hw-03/blob/main/%D0%94%D0%973_%D0%9A%D1%80%D0%B0%D1%81%D1%96%D0%BB%D1%8C%D0%BD%D0%B8%D0%BA%D0%BE%D0%B2_%D0%94%D0%BC%D0%B8%D1%82%D1%80%D0%BE_%D0%9A%D0%BE%D1%81%D1%82%D1%8F%D0%BD%D1%82%D0%B8%D0%BD%D0%BE%D0%B2%D0%B8%D1%87.ipynb\" target=\"_parent\"><img src=\"https://colab.research.google.com/assets/colab-badge.svg\" alt=\"Open In Colab\"/></a>"
      ]
    },
    {
      "cell_type": "markdown",
      "source": [
        "# Завдання 1"
      ],
      "metadata": {
        "id": "2MeHLkJHkTmf"
      }
    },
    {
      "cell_type": "code",
      "execution_count": null,
      "metadata": {
        "id": "nOqTCG41kSxg"
      },
      "outputs": [],
      "source": [
        "import os\n",
        "import shutil\n",
        "import sys\n",
        "\n",
        "def parse_args():\n",
        "    import argparse\n",
        "\n",
        "    parser = argparse.ArgumentParser(description=\"Copy and sort files based on their extensions.\")\n",
        "    parser.add_argument('src_dir', type=str, help='Path to the source directory')\n",
        "    parser.add_argument('dst_dir', type=str, nargs='?', default='dist', help='Path to the destination directory (default: dist)')\n",
        "    return parser.parse_args()\n",
        "\n",
        "def copy_files(src_dir, dst_dir):\n",
        "    try:\n",
        "        for item in os.listdir(src_dir):\n",
        "            src_path = os.path.join(src_dir, item)\n",
        "            if os.path.isdir(src_path):\n",
        "                copy_files(src_path, dst_dir)\n",
        "            elif os.path.isfile(src_path):\n",
        "                extension = os.path.splitext(item)[1][1:]  # Get file extension without dot\n",
        "                if extension:  # Ensure the file has an extension\n",
        "                    dst_path = os.path.join(dst_dir, extension)\n",
        "                    os.makedirs(dst_path, exist_ok=True)  # Create directory if it doesn't exist\n",
        "                    shutil.copy2(src_path, os.path.join(dst_path, item))\n",
        "    except Exception as e:\n",
        "        print(f\"Error processing {src_dir}: {e}\")\n",
        "\n",
        "def main():\n",
        "    args = parse_args()\n",
        "    src_dir = args.src_dir\n",
        "    dst_dir = args.dst_dir\n",
        "\n",
        "    if not os.path.exists(src_dir):\n",
        "        print(f\"Source directory '{src_dir}' does not exist.\")\n",
        "        sys.exit(1)\n",
        "\n",
        "    if not os.path.exists(dst_dir):\n",
        "        os.makedirs(dst_dir)\n",
        "\n",
        "    copy_files(src_dir, dst_dir)\n",
        "    print(f\"Files copied and sorted to {dst_dir}\")\n",
        "\n",
        "if __name__ == \"__main__\":\n",
        "    main()\n"
      ]
    },
    {
      "cell_type": "markdown",
      "source": [
        "# Завдання 2"
      ],
      "metadata": {
        "id": "IjYUQLZ5lOuU"
      }
    },
    {
      "cell_type": "code",
      "source": [
        "import turtle\n",
        "\n",
        "def koch_snowflake(t, order, size):\n",
        "    if order == 0:\n",
        "        t.forward(size)\n",
        "    else:\n",
        "        for angle in [60, -120, 60, 0]:\n",
        "            koch_snowflake(t, order-1, size/3)\n",
        "            t.left(angle)\n",
        "\n",
        "def main():\n",
        "    screen = turtle.Screen()\n",
        "    screen.setup(800, 600)\n",
        "\n",
        "    t = turtle.Turtle()\n",
        "    t.speed(0)\n",
        "\n",
        "    # Встановлення початкової позиції\n",
        "    t.penup()\n",
        "    t.goto(-150, 90)\n",
        "    t.pendown()\n",
        "\n",
        "    # Визначення рівня рекурсії та розміру відрізка\n",
        "    level = int(input(\"Введіть рівень рекурсії для сніжинки Коха: \"))\n",
        "    length = 300\n",
        "\n",
        "    # Малювання трьох сторін сніжинки Коха\n",
        "    for _ in range(3):\n",
        "        koch_snowflake(t, level, length)\n",
        "        t.right(120)\n",
        "\n",
        "    t.hideturtle()\n",
        "    screen.mainloop()\n",
        "\n",
        "if __name__ == \"__main__\":\n",
        "    main()\n"
      ],
      "metadata": {
        "id": "kj-bCaCykaAd"
      },
      "execution_count": null,
      "outputs": []
    },
    {
      "cell_type": "markdown",
      "source": [
        "# Завдання 3"
      ],
      "metadata": {
        "id": "-SV99hPcm8HC"
      }
    },
    {
      "cell_type": "code",
      "source": [
        "def move_disk(n, source, target, auxiliary):\n",
        "    if n == 1:\n",
        "        print(f\"Перемістити диск з {source} на {target}\")\n",
        "        towers[target].append(towers[source].pop())\n",
        "        print_state()\n",
        "    else:\n",
        "        move_disk(n-1, source, auxiliary, target)\n",
        "        move_disk(1, source, target, auxiliary)\n",
        "        move_disk(n-1, auxiliary, target, source)\n",
        "\n",
        "def print_state():\n",
        "    print(f\"Стан: {{'A': {towers['A']}, 'B': {towers['B']}, 'C': {towers['C']}}}\")\n",
        "\n",
        "# Вхідні дані\n",
        "n = int(input(\"Введіть кількість дисків: \"))\n",
        "\n",
        "# Початковий стан стрижнів\n",
        "towers = {'A': list(reversed(range(1, n+1))), 'B': [], 'C': []}\n",
        "print(\"Початковий стан:\")\n",
        "print_state()\n",
        "\n",
        "# Запуск алгоритму\n",
        "move_disk(n, 'A', 'C', 'B')\n"
      ],
      "metadata": {
        "id": "OnSRY4zLlyFO"
      },
      "execution_count": null,
      "outputs": []
    }
  ]
}